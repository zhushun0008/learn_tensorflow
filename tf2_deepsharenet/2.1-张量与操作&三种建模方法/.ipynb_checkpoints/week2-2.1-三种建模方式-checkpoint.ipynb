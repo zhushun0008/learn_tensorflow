{
 "cells": [
  {
   "cell_type": "markdown",
   "metadata": {},
   "source": [
    "# 三种建模方式"
   ]
  },
  {
   "cell_type": "markdown",
   "metadata": {},
   "source": [
    "## Sequential model"
   ]
  },
  {
   "cell_type": "markdown",
   "metadata": {},
   "source": [
    "### 第一种Sequential model"
   ]
  },
  {
   "cell_type": "code",
   "execution_count": 1,
   "metadata": {},
   "outputs": [],
   "source": [
    "from tensorflow.keras import layers\n",
    "import tensorflow as tf\n",
    "model = tf.keras.Sequential()\n",
    "model.add(layers.Dense(64, activation='relu'))#第一层\n",
    "model.add(layers.Dense(64, activation='relu'))#第二层\n",
    "model.add(layers.Dense(10))#第三层\n",
    "# 。。。。。。。"
   ]
  },
  {
   "cell_type": "markdown",
   "metadata": {},
   "source": [
    "### 第二种Sequential model"
   ]
  },
  {
   "cell_type": "code",
   "execution_count": 2,
   "metadata": {},
   "outputs": [],
   "source": [
    "model = tf.keras.Sequential([\n",
    "layers.Dense(64, activation='relu', input_shape=(32,)),#第一层\n",
    "layers.Dense(64, activation='relu'),#第二层\n",
    "layers.Dense(10)#第三层\n",
    "    #。。。。。\n",
    "])"
   ]
  },
  {
   "cell_type": "code",
   "execution_count": 3,
   "metadata": {},
   "outputs": [],
   "source": [
    "model.compile(optimizer=tf.keras.optimizers.Adam(0.01),\n",
    "              loss=tf.keras.losses.CategoricalCrossentropy(from_logits=True),\n",
    "              metrics=['accuracy'])"
   ]
  },
  {
   "cell_type": "code",
   "execution_count": 4,
   "metadata": {},
   "outputs": [
    {
     "name": "stdout",
     "output_type": "stream",
     "text": [
      "Epoch 1/10\n",
      "32/32 [==============================] - 0s 974us/step - loss: 25.9763 - accuracy: 0.0950\n",
      "Epoch 2/10\n",
      "32/32 [==============================] - 0s 890us/step - loss: 212.3164 - accuracy: 0.1010\n",
      "Epoch 3/10\n",
      "32/32 [==============================] - 0s 1ms/step - loss: 1287.6886 - accuracy: 0.1120\n",
      "Epoch 4/10\n",
      "32/32 [==============================] - 0s 1ms/step - loss: 3588.3916 - accuracy: 0.1050\n",
      "Epoch 5/10\n",
      "32/32 [==============================] - 0s 1ms/step - loss: 5371.9097 - accuracy: 0.0940\n",
      "Epoch 6/10\n",
      "32/32 [==============================] - 0s 1ms/step - loss: 9423.6260 - accuracy: 0.0950\n",
      "Epoch 7/10\n",
      "32/32 [==============================] - 0s 957us/step - loss: 14227.1504 - accuracy: 0.1000\n",
      "Epoch 8/10\n",
      "32/32 [==============================] - 0s 859us/step - loss: 15448.5713 - accuracy: 0.0880\n",
      "Epoch 9/10\n",
      "32/32 [==============================] - 0s 1ms/step - loss: 25778.5898 - accuracy: 0.1070\n",
      "Epoch 10/10\n",
      "32/32 [==============================] - 0s 1ms/step - loss: 32184.2637 - accuracy: 0.1070\n"
     ]
    },
    {
     "data": {
      "text/plain": [
       "<tensorflow.python.keras.callbacks.History at 0x7fee27fb9910>"
      ]
     },
     "execution_count": 4,
     "metadata": {},
     "output_type": "execute_result"
    }
   ],
   "source": [
    "import numpy as np\n",
    "\n",
    "data = np.random.random((1000, 32))\n",
    "labels = np.random.random((1000, 10))\n",
    "\n",
    "model.fit(data, labels, epochs=10, batch_size=32)"
   ]
  },
  {
   "cell_type": "markdown",
   "metadata": {},
   "source": [
    "tf.keras.Model.fit (用于模型训练) \n",
    "\n",
    "- epochs：训练分为几个时期。每一个epoch是对整个输入数据的一次迭代（此操作以较小的批次完成）。\n",
    "- batch_size：当传递NumPy数据时，模型将数据切成较小的批次，并在训练期间对这些批次进行迭代。该整数指定每个批次的大小。请注意，如果不能将样本总数除以批次大小，则最后一批可能会更小。\n",
    "- validation_data：在模型训练时，监控在某些验证数据上监视其性能。传递此参数（输入和标签的元组）可以使模型在每个时期结束时以推断模式显示所传递数据的损失和度量。"
   ]
  },
  {
   "cell_type": "markdown",
   "metadata": {},
   "source": [
    "##  Functional model\n",
    "\n",
    "函数式模型是一种创建模型的方法，该模型比tf.keras.Sequential更灵活。函数式模型可以处理具有非线性拓扑的模型，具有共享层的模型以及具有多个输入或输出的模型等等\n",
    "\n",
    "深度学习模型通常是层的有向无环图（DAG）的主要思想。因此，函数式模型是一种构建层图的方法。\n",
    "\n"
   ]
  },
  {
   "cell_type": "markdown",
   "metadata": {},
   "source": [
    "举个例子：\n",
    "\"\"\"\n",
    "(input: 32-dimensional vectors) \\\n",
    "       ↧\n",
    "[Dense (64 units, relu activation)] \\\n",
    "       ↧\n",
    "[Dense (64 units, relu activation)] \\\n",
    "       ↧\n",
    "[Dense (10 units, softmax activation)] \\\n",
    "       ↧\n",
    "(output: logits of a probability distribution over 10 classes)\n",
    "\"\"\""
   ]
  },
  {
   "cell_type": "code",
   "execution_count": 46,
   "metadata": {},
   "outputs": [],
   "source": [
    "inputs = tf.keras.Input(shape=(32,))  \n",
    "# inputs = tf.keras.Input(shape=(32,))  \n",
    "x = layers.Dense(64, activation='relu')(inputs) #第一层\n",
    "x = layers.Dense(64, activation='relu')(x) #第二层\n",
    "predictions = layers.Dense(10)(x) #第三层"
   ]
  },
  {
   "cell_type": "code",
   "execution_count": null,
   "metadata": {},
   "outputs": [],
   "source": [
    "model = tf.keras.Model(inputs=inputs, outputs=predictions)\n",
    "\n",
    "\n",
    "model.compile(optimizer=tf.keras.optimizers.RMSprop(0.001),\n",
    "              loss=tf.keras.losses.CategoricalCrossentropy(from_logits=True),\n",
    "              metrics=['accuracy'])\n",
    "\n",
    "import numpy as np\n",
    "data = np.random.random((1000, 32))\n",
    "labels = np.random.random((1000, 10))\n",
    "model.fit(data, labels, batch_size=32, epochs=5)"
   ]
  },
  {
   "cell_type": "code",
   "execution_count": null,
   "metadata": {},
   "outputs": [],
   "source": []
  },
  {
   "cell_type": "code",
   "execution_count": 9,
   "metadata": {},
   "outputs": [],
   "source": [
    "inputs1 = tf.keras.Input(shape=(32,))  #输入1\n",
    "inputs2 = tf.keras.Input(shape=(32,))  #输入2\n",
    "x1 = layers.Dense(64, activation='relu')(inputs1) #第一层\n",
    "x2 = layers.Dense(64, activation='relu')(inputs2) #第一层\n",
    "x = tf.concat([x1,x2],axis=-1)\n",
    "x = layers.Dense(64, activation='relu')(x) #第二层\n",
    "predictions = layers.Dense(10)(x) #第三层"
   ]
  },
  {
   "cell_type": "code",
   "execution_count": 10,
   "metadata": {},
   "outputs": [
    {
     "name": "stdout",
     "output_type": "stream",
     "text": [
      "Train on 1000 samples\n",
      "Epoch 1/5\n",
      "1000/1000 [==============================] - 1s 1ms/sample - loss: 18.0165 - accuracy: 0.0920\n",
      "Epoch 2/5\n",
      "1000/1000 [==============================] - 0s 261us/sample - loss: 45.0426 - accuracy: 0.1050\n",
      "Epoch 3/5\n",
      "1000/1000 [==============================] - 0s 180us/sample - loss: 84.2061 - accuracy: 0.1150\n",
      "Epoch 4/5\n",
      "1000/1000 [==============================] - 0s 160us/sample - loss: 123.1821 - accuracy: 0.1000\n",
      "Epoch 5/5\n",
      "1000/1000 [==============================] - 0s 488us/sample - loss: 150.3576 - accuracy: 0.1060\n"
     ]
    },
    {
     "data": {
      "text/plain": [
       "<tensorflow.python.keras.callbacks.History at 0x212808d6d30>"
      ]
     },
     "execution_count": 10,
     "metadata": {},
     "output_type": "execute_result"
    }
   ],
   "source": [
    "model = tf.keras.Model(inputs=[inputs1,inputs2], outputs=predictions)\n",
    "\n",
    "\n",
    "model.compile(optimizer=tf.keras.optimizers.RMSprop(0.001),\n",
    "              loss=tf.keras.losses.CategoricalCrossentropy(from_logits=True),\n",
    "              metrics=['accuracy'])\n",
    "\n",
    "import numpy as np\n",
    "data1 = np.random.random((1000, 32))\n",
    "data2 = np.random.random((1000, 32))\n",
    "labels = np.random.random((1000, 10))\n",
    "model.fit((data1,data2), labels, batch_size=32, epochs=5)"
   ]
  },
  {
   "cell_type": "code",
   "execution_count": null,
   "metadata": {},
   "outputs": [],
   "source": []
  },
  {
   "cell_type": "markdown",
   "metadata": {},
   "source": [
    "## 模型子类化 (重要！！！)"
   ]
  },
  {
   "cell_type": "markdown",
   "metadata": {},
   "source": [
    "通过子类化tf.keras.Model和定义自己的前向传播模型来构建完全可定制的模型。\n",
    "\n",
    "和eager execution模式相辅相成。\n"
   ]
  },
  {
   "cell_type": "code",
   "execution_count": 11,
   "metadata": {},
   "outputs": [],
   "source": [
    "class MyModel(tf.keras.Model):\n",
    "\n",
    "    def __init__(self, num_classes=10):\n",
    "        super(MyModel, self).__init__(name='my_model')\n",
    "        self.num_classes = num_classes\n",
    "        # 定义自己需要的层\n",
    "        self.dense_1 = layers.Dense(32, activation='relu') #\n",
    "        self.dense_2 = layers.Dense(num_classes)\n",
    "\n",
    "    def call(self, inputs):\n",
    "        #定义前向传播\n",
    "        # 使用在 (in `__init__`)定义的层\n",
    "        x = self.dense_1(inputs)\n",
    "        x = self.dense_2(x)\n",
    "        return x"
   ]
  },
  {
   "cell_type": "code",
   "execution_count": 12,
   "metadata": {},
   "outputs": [
    {
     "name": "stdout",
     "output_type": "stream",
     "text": [
      "Train on 1000 samples\n",
      "Epoch 1/5\n",
      "1000/1000 [==============================] - 1s 853us/sample - loss: 12.9870 - accuracy: 0.1170\n",
      "Epoch 2/5\n",
      "1000/1000 [==============================] - 0s 328us/sample - loss: 14.9116 - accuracy: 0.1120\n",
      "Epoch 3/5\n",
      "1000/1000 [==============================] - 0s 269us/sample - loss: 17.3875 - accuracy: 0.1080\n",
      "Epoch 4/5\n",
      "1000/1000 [==============================] - 0s 123us/sample - loss: 19.5177 - accuracy: 0.1110\n",
      "Epoch 5/5\n",
      "1000/1000 [==============================] - 0s 274us/sample - loss: 21.4926 - accuracy: 0.1270\n"
     ]
    },
    {
     "data": {
      "text/plain": [
       "<tensorflow.python.keras.callbacks.History at 0x2128108f668>"
      ]
     },
     "execution_count": 12,
     "metadata": {},
     "output_type": "execute_result"
    }
   ],
   "source": [
    "model = MyModel(num_classes=10)\n",
    "\n",
    "model.compile(optimizer=tf.keras.optimizers.RMSprop(0.001),\n",
    "              loss=tf.keras.losses.CategoricalCrossentropy(from_logits=True),\n",
    "              metrics=['accuracy'])\n",
    "\n",
    "import numpy as np\n",
    "\n",
    "data = np.random.random((1000, 32))\n",
    "labels = np.random.random((1000, 10))\n",
    "# Trains for 5 epochs.\n",
    "model.fit(data, labels, batch_size=32, epochs=5)"
   ]
  },
  {
   "cell_type": "code",
   "execution_count": null,
   "metadata": {},
   "outputs": [],
   "source": []
  },
  {
   "cell_type": "code",
   "execution_count": null,
   "metadata": {},
   "outputs": [],
   "source": []
  }
 ],
 "metadata": {
  "kernelspec": {
   "display_name": "Python 3",
   "language": "python",
   "name": "python3"
  },
  "language_info": {
   "codemirror_mode": {
    "name": "ipython",
    "version": 3
   },
   "file_extension": ".py",
   "mimetype": "text/x-python",
   "name": "python",
   "nbconvert_exporter": "python",
   "pygments_lexer": "ipython3",
   "version": "3.7.4"
  }
 },
 "nbformat": 4,
 "nbformat_minor": 4
}
