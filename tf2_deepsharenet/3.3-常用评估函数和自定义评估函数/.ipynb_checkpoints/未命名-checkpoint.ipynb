{
 "cells": [
  {
   "cell_type": "code",
   "execution_count": 1,
   "metadata": {},
   "outputs": [],
   "source": [
    "import tensorflow as tf"
   ]
  },
  {
   "cell_type": "code",
   "execution_count": 2,
   "metadata": {},
   "outputs": [
    {
     "name": "stdout",
     "output_type": "stream",
     "text": [
      "0.42857143\n"
     ]
    }
   ],
   "source": [
    "y_true = tf.constant([0,1,2,1,4,5,3])\n",
    "y_pred = tf.random.uniform(shape=(7,6))\n",
    "acc = tf.keras.metrics.SparseCategoricalAccuracy()\n",
    "acc.update_state(y_true,y_pred)\n",
    "tf.print(acc.result().numpy())\n",
    "acc.reset_states()\n"
   ]
  },
  {
   "cell_type": "code",
   "execution_count": 1,
   "metadata": {},
   "outputs": [],
   "source": [
    "import tensorflow as tf"
   ]
  },
  {
   "cell_type": "code",
   "execution_count": 2,
   "metadata": {},
   "outputs": [],
   "source": [
    "y_true = tf.constant([0,1,2,1,4,5,3])\n",
    "y_pred = tf.random.uniform(shape=(7,6))\n",
    "y_true = tf.one_hot(y_true,depth=6,dtype=tf.int32)"
   ]
  },
  {
   "cell_type": "code",
   "execution_count": 3,
   "metadata": {},
   "outputs": [
    {
     "name": "stdout",
     "output_type": "stream",
     "text": [
      "0.0\n"
     ]
    }
   ],
   "source": [
    "acc = tf.keras.metrics.CategoricalAccuracy()\n",
    "acc.update_state(y_true,y_pred)\n",
    "tf.print(acc.result().numpy())\n",
    "acc.reset_states()\n"
   ]
  },
  {
   "cell_type": "code",
   "execution_count": null,
   "metadata": {},
   "outputs": [],
   "source": []
  }
 ],
 "metadata": {
  "kernelspec": {
   "display_name": "Python 3",
   "language": "python",
   "name": "python3"
  },
  "language_info": {
   "codemirror_mode": {
    "name": "ipython",
    "version": 3
   },
   "file_extension": ".py",
   "mimetype": "text/x-python",
   "name": "python",
   "nbconvert_exporter": "python",
   "pygments_lexer": "ipython3",
   "version": "3.7.0"
  }
 },
 "nbformat": 4,
 "nbformat_minor": 4
}
