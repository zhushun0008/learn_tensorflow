{
 "cells": [
  {
   "cell_type": "markdown",
   "metadata": {},
   "source": [
    "# 尝试自定义一个线性回归模型\n",
    "\n",
    "\n",
    "$y = x \\cdot w +b $\n",
    "\n",
    "假设$x \\in R^{(150,4)}$, $w \\in R^{(4,1)} $ , $b \\in R^{(4)} $\n",
    "返回 $y \\in R^{(150,1)}$"
   ]
  },
  {
   "cell_type": "code",
   "execution_count": 15,
   "metadata": {},
   "outputs": [],
   "source": [
    "from sklearn import datasets\n",
    "\n",
    "iris = datasets.load_iris()"
   ]
  },
  {
   "cell_type": "code",
   "execution_count": 16,
   "metadata": {},
   "outputs": [],
   "source": [
    "data = iris.data\n",
    "target = iris.target"
   ]
  },
  {
   "cell_type": "code",
   "execution_count": 17,
   "metadata": {},
   "outputs": [
    {
     "data": {
      "text/plain": [
       "(150, 4)"
      ]
     },
     "execution_count": 17,
     "metadata": {},
     "output_type": "execute_result"
    }
   ],
   "source": [
    "data.shape   # x"
   ]
  },
  {
   "cell_type": "code",
   "execution_count": 18,
   "metadata": {},
   "outputs": [
    {
     "data": {
      "text/plain": [
       "(150,)"
      ]
     },
     "execution_count": 18,
     "metadata": {},
     "output_type": "execute_result"
    }
   ],
   "source": [
    "target.shape #y"
   ]
  },
  {
   "cell_type": "markdown",
   "metadata": {},
   "source": [
    "# 方法1"
   ]
  },
  {
   "cell_type": "code",
   "execution_count": 19,
   "metadata": {},
   "outputs": [
    {
     "name": "stdout",
     "output_type": "stream",
     "text": [
      "(150, 1)\n"
     ]
    }
   ],
   "source": [
    "\n",
    "import tensorflow as tf\n",
    "#自定义全连接层\n",
    "class Linear(tf.keras.layers.Layer):\n",
    "\n",
    "    def __init__(self, units=1, input_dim=4):\n",
    "        super(Linear, self).__init__() #\n",
    "        w_init = tf.random_normal_initializer()\n",
    "        self.w = tf.Variable(initial_value=w_init(shape=(input_dim, units),\n",
    "                                                  dtype='float32'), \n",
    "                             trainable=True)\n",
    "        b_init = tf.zeros_initializer()\n",
    "        self.b = tf.Variable(initial_value=b_init(shape=(units,),dtype='float32'),trainable=True)\n",
    "\n",
    "    def call(self, inputs):\n",
    "        return tf.matmul(inputs, self.w) + self.b\n",
    "\n",
    "\n",
    "x = tf.constant(data) #(150,4)\n",
    "linear_layer = Linear(units = 1, input_dim=4) #()\n",
    "y = linear_layer(x)\n",
    "print(y.shape) #(150,1)\n"
   ]
  },
  {
   "cell_type": "code",
   "execution_count": 20,
   "metadata": {},
   "outputs": [
    {
     "data": {
      "text/plain": [
       "<tf.Tensor: shape=(150, 1), dtype=float32, numpy=\n",
       "array([[-0.3397249 ],\n",
       "       [-0.31525636],\n",
       "       [-0.3131157 ],\n",
       "       [-0.3107172 ],\n",
       "       [-0.33979517],\n",
       "       [-0.37999824],\n",
       "       [-0.32349846],\n",
       "       [-0.33504522],\n",
       "       [-0.29451418],\n",
       "       [-0.31653744],\n",
       "       [-0.35937324],\n",
       "       [-0.33043578],\n",
       "       [-0.30729532],\n",
       "       [-0.28322515],\n",
       "       [-0.3768576 ],\n",
       "       [-0.4033497 ],\n",
       "       [-0.37087342],\n",
       "       [-0.34424064],\n",
       "       [-0.3823029 ],\n",
       "       [-0.3570686 ],\n",
       "       [-0.3533889 ],\n",
       "       [-0.3580687 ],\n",
       "       [-0.31688905],\n",
       "       [-0.35308453],\n",
       "       [-0.3372794 ],\n",
       "       [-0.3232641 ],\n",
       "       [-0.34635785],\n",
       "       [-0.3454514 ],\n",
       "       [-0.33965462],\n",
       "       [-0.31995928],\n",
       "       [-0.319889  ],\n",
       "       [-0.35785794],\n",
       "       [-0.36202922],\n",
       "       [-0.37811524],\n",
       "       [-0.32105315],\n",
       "       [-0.32117042],\n",
       "       [-0.351225  ],\n",
       "       [-0.33183414],\n",
       "       [-0.2957486 ],\n",
       "       [-0.33849052],\n",
       "       [-0.33851412],\n",
       "       [-0.27910054],\n",
       "       [-0.30277973],\n",
       "       [-0.3589049 ],\n",
       "       [-0.37070912],\n",
       "       [-0.31632677],\n",
       "       [-0.35483405],\n",
       "       [-0.31195155],\n",
       "       [-0.3559279 ],\n",
       "       [-0.32924843],\n",
       "       [-0.52410764],\n",
       "       [-0.50338906],\n",
       "       [-0.52622485],\n",
       "       [-0.42030343],\n",
       "       [-0.49505323],\n",
       "       [-0.456178  ],\n",
       "       [-0.5125375 ],\n",
       "       [-0.37363157],\n",
       "       [-0.49298266],\n",
       "       [-0.42626435],\n",
       "       [-0.36757696],\n",
       "       [-0.47228765],\n",
       "       [-0.4204673 ],\n",
       "       [-0.482553  ],\n",
       "       [-0.43571743],\n",
       "       [-0.5034125 ],\n",
       "       [-0.46879536],\n",
       "       [-0.4334358 ],\n",
       "       [-0.46134257],\n",
       "       [-0.41946727],\n",
       "       [-0.50655323],\n",
       "       [-0.45855325],\n",
       "       [-0.48445946],\n",
       "       [-0.470006  ],\n",
       "       [-0.47924843],\n",
       "       [-0.49645156],\n",
       "       [-0.5054359 ],\n",
       "       [-0.52713126],\n",
       "       [-0.479061  ],\n",
       "       [-0.41278765],\n",
       "       [-0.41022518],\n",
       "       [-0.4034283 ],\n",
       "       [-0.43790483],\n",
       "       [-0.4902328 ],\n",
       "       [-0.4619047 ],\n",
       "       [-0.50115466],\n",
       "       [-0.5147718 ],\n",
       "       [-0.4569908 ],\n",
       "       [-0.45063907],\n",
       "       [-0.4273346 ],\n",
       "       [-0.4354593 ],\n",
       "       [-0.4837874 ],\n",
       "       [-0.43667042],\n",
       "       [-0.3735613 ],\n",
       "       [-0.44237348],\n",
       "       [-0.45184985],\n",
       "       [-0.45284998],\n",
       "       [-0.47235778],\n",
       "       [-0.38170984],\n",
       "       [-0.4470532 ],\n",
       "       [-0.5828346 ],\n",
       "       [-0.49688935],\n",
       "       [-0.5795063 ],\n",
       "       [-0.52803737],\n",
       "       [-0.5610689 ],\n",
       "       [-0.6127013 ],\n",
       "       [-0.43613166],\n",
       "       [-0.57845896],\n",
       "       [-0.5323187 ],\n",
       "       [-0.62667036],\n",
       "       [-0.5431002 ],\n",
       "       [-0.5221237 ],\n",
       "       [-0.56004554],\n",
       "       [-0.48864734],\n",
       "       [-0.52298355],\n",
       "       [-0.5577645 ],\n",
       "       [-0.5361624 ],\n",
       "       [-0.6510682 ],\n",
       "       [-0.6179594 ],\n",
       "       [-0.46585792],\n",
       "       [-0.58411586],\n",
       "       [-0.49346757],\n",
       "       [-0.60688096],\n",
       "       [-0.5050378 ],\n",
       "       [-0.57170933],\n",
       "       [-0.5787168 ],\n",
       "       [-0.5028268 ],\n",
       "       [-0.50869393],\n",
       "       [-0.5415143 ],\n",
       "       [-0.5580918 ],\n",
       "       [-0.5783421 ],\n",
       "       [-0.64208376],\n",
       "       [-0.54603   ],\n",
       "       [-0.49956858],\n",
       "       [-0.49253708],\n",
       "       [-0.6137721 ],\n",
       "       [-0.5727097 ],\n",
       "       [-0.53623265],\n",
       "       [-0.50296736],\n",
       "       [-0.5647252 ],\n",
       "       [-0.5759442 ],\n",
       "       [-0.56691307],\n",
       "       [-0.49688935],\n",
       "       [-0.585233  ],\n",
       "       [-0.5897722 ],\n",
       "       [-0.55878806],\n",
       "       [-0.50480354],\n",
       "       [-0.5383502 ],\n",
       "       [-0.5601862 ],\n",
       "       [-0.50636566]], dtype=float32)>"
      ]
     },
     "execution_count": 20,
     "metadata": {},
     "output_type": "execute_result"
    }
   ],
   "source": [
    "y"
   ]
  },
  {
   "cell_type": "markdown",
   "metadata": {},
   "source": [
    "# 方法2"
   ]
  },
  {
   "cell_type": "code",
   "execution_count": 21,
   "metadata": {},
   "outputs": [
    {
     "name": "stdout",
     "output_type": "stream",
     "text": [
      "(150, 1)\n"
     ]
    }
   ],
   "source": [
    "class Linear(tf.keras.layers.Layer):\n",
    "\n",
    "    def __init__(self, units=1, input_dim=4):\n",
    "        super(Linear, self).__init__()\n",
    "        self.w = self.add_weight(shape=(input_dim, units),\n",
    "                                 initializer='random_normal',\n",
    "                                 trainable=True)\n",
    "        self.b = self.add_weight(shape=(units,),\n",
    "                                 initializer='zeros',\n",
    "                                 trainable=True)\n",
    "\n",
    "    def call(self, inputs):\n",
    "        return tf.matmul(inputs, self.w) + self.b\n",
    "\n",
    "\n",
    "x = tf.constant(data)\n",
    "linear_layer = Linear(units = 1, input_dim=4)\n",
    "y = linear_layer(x)\n",
    "print(y.shape)\n",
    "\n"
   ]
  },
  {
   "cell_type": "markdown",
   "metadata": {},
   "source": [
    "# 方法三"
   ]
  },
  {
   "cell_type": "code",
   "execution_count": 22,
   "metadata": {},
   "outputs": [
    {
     "name": "stdout",
     "output_type": "stream",
     "text": [
      "(150, 1)\n"
     ]
    }
   ],
   "source": [
    "class Linear(tf.keras.layers.Layer):\n",
    "\n",
    "    def __init__(self, units=32):\n",
    "        super(Linear, self).__init__()\n",
    "        self.units = units\n",
    "\n",
    "    def build(self, input_shape): #(150,4)\n",
    "        self.w = self.add_weight(shape=(input_shape[-1], self.units),\n",
    "                                 initializer='random_normal',\n",
    "                                 trainable=True)\n",
    "        self.b = self.add_weight(shape=(self.units,),\n",
    "                                 initializer='random_normal',\n",
    "                                 trainable=True)\n",
    "        super(Linear,self).build(input_shape)\n",
    "\n",
    "    def call(self, inputs):\n",
    "        return tf.matmul(inputs, self.w) + self.b\n",
    "    \n",
    "    \n",
    "    \n",
    "x = tf.constant(data) #150*4\n",
    "linear_layer = Linear(units = 1)\n",
    "y = linear_layer(x)\n",
    "print(y.shape)\n"
   ]
  },
  {
   "cell_type": "markdown",
   "metadata": {},
   "source": [
    "# 添加不可训练的参数"
   ]
  },
  {
   "cell_type": "code",
   "execution_count": 23,
   "metadata": {},
   "outputs": [
    {
     "name": "stdout",
     "output_type": "stream",
     "text": [
      "(150, 1)\n"
     ]
    }
   ],
   "source": [
    "class Linear(tf.keras.layers.Layer):\n",
    "\n",
    "    def __init__(self, units=32):\n",
    "        super(Linear, self).__init__()\n",
    "        self.units = units\n",
    "\n",
    "    def build(self, input_shape):\n",
    "        self.w = self.add_weight(shape=(input_shape[-1], self.units),\n",
    "                                 initializer='random_normal',\n",
    "                                 trainable=True)\n",
    "        self.b = self.add_weight(shape=(self.units,),\n",
    "                                 initializer='random_normal',\n",
    "                                 trainable=False)\n",
    "        super(Linear,self).build(input_shape)\n",
    "\n",
    "    def call(self, inputs):\n",
    "        return tf.matmul(inputs, self.w) + self.b\n",
    "    \n",
    "    \n",
    "    \n",
    "x = tf.constant(data)\n",
    "linear_layer = Linear(units = 1)\n",
    "y = linear_layer(x)\n",
    "print(y.shape)\n"
   ]
  },
  {
   "cell_type": "code",
   "execution_count": 24,
   "metadata": {},
   "outputs": [
    {
     "name": "stdout",
     "output_type": "stream",
     "text": [
      "weight: [<tf.Variable 'linear_7/Variable:0' shape=(4, 1) dtype=float32, numpy=\n",
      "array([[ 0.00999472],\n",
      "       [-0.06688973],\n",
      "       [ 0.05283281],\n",
      "       [-0.07357838]], dtype=float32)>, <tf.Variable 'linear_7/Variable:0' shape=(1,) dtype=float32, numpy=array([0.02562592], dtype=float32)>]\n",
      "non-trainable weight: [<tf.Variable 'linear_7/Variable:0' shape=(1,) dtype=float32, numpy=array([0.02562592], dtype=float32)>]\n",
      "trainable weight: [<tf.Variable 'linear_7/Variable:0' shape=(4, 1) dtype=float32, numpy=\n",
      "array([[ 0.00999472],\n",
      "       [-0.06688973],\n",
      "       [ 0.05283281],\n",
      "       [-0.07357838]], dtype=float32)>]\n"
     ]
    }
   ],
   "source": [
    "print('weight:', linear_layer.weights)\n",
    "print('non-trainable weight:', linear_layer.non_trainable_weights)\n",
    "print('trainable weight:', linear_layer.trainable_weights)"
   ]
  }
 ],
 "metadata": {
  "kernelspec": {
   "display_name": "Python 3",
   "language": "python",
   "name": "python3"
  },
  "language_info": {
   "codemirror_mode": {
    "name": "ipython",
    "version": 3
   },
   "file_extension": ".py",
   "mimetype": "text/x-python",
   "name": "python",
   "nbconvert_exporter": "python",
   "pygments_lexer": "ipython3",
   "version": "3.8.5"
  }
 },
 "nbformat": 4,
 "nbformat_minor": 2
}
