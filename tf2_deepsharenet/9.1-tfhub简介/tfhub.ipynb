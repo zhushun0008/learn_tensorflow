{
 "cells": [
  {
   "cell_type": "code",
   "execution_count": 2,
   "metadata": {},
   "outputs": [],
   "source": [
    "import tensorflow_hub as hub\n",
    "\n",
    "embed = hub.load(\"./nnlm-zh-dim50-with-normalization_2\")\n"
   ]
  },
  {
   "cell_type": "code",
   "execution_count": 26,
   "metadata": {},
   "outputs": [
    {
     "data": {
      "text/plain": [
       "TensorShape([2, 50])"
      ]
     },
     "execution_count": 26,
     "metadata": {},
     "output_type": "execute_result"
    }
   ],
   "source": [
    "embeddings = embed([\"男 人\", \"女 人\"])\n",
    "embeddings.shape"
   ]
  },
  {
   "cell_type": "code",
   "execution_count": 27,
   "metadata": {},
   "outputs": [
    {
     "data": {
      "text/plain": [
       "<tf.Tensor: id=461, shape=(50,), dtype=float32, numpy=\n",
       "array([-0.0723118 , -0.02261443, -0.13093795, -0.10121617,  0.24167016,\n",
       "       -0.1516153 , -0.21132687, -0.03447215,  0.41586655, -0.06008016,\n",
       "        0.07898698,  0.14647418, -0.13860698,  0.02432544,  0.01865583,\n",
       "       -0.10847726, -0.10081095,  0.24029845, -0.20584469,  0.26454794,\n",
       "        0.02923219, -0.09868159,  0.13764317, -0.00866372, -0.31003717,\n",
       "        0.21122254, -0.22883596,  0.21857198, -0.13977836, -0.18633413,\n",
       "       -0.13354269,  0.03527712, -0.00228143,  0.05794042,  0.21858081,\n",
       "       -0.15768361,  0.03689402, -0.3237845 ,  0.06260592,  0.01628113,\n",
       "       -0.34706676,  0.15438409, -0.06346516, -0.12056275,  0.03185892,\n",
       "       -0.26768813, -0.13757196, -0.12488624,  0.01995356,  0.05919786],\n",
       "      dtype=float32)>"
      ]
     },
     "execution_count": 27,
     "metadata": {},
     "output_type": "execute_result"
    }
   ],
   "source": [
    "embeddings[0]"
   ]
  },
  {
   "cell_type": "code",
   "execution_count": 28,
   "metadata": {},
   "outputs": [
    {
     "data": {
      "text/plain": [
       "<tf.Tensor: id=465, shape=(50,), dtype=float32, numpy=\n",
       "array([-0.07964583,  0.00043416, -0.1464676 , -0.08468687,  0.18957299,\n",
       "       -0.11347295, -0.21707432, -0.06135448,  0.42221537, -0.07161589,\n",
       "        0.12347831,  0.11899923, -0.1860566 ,  0.05610096,  0.02894448,\n",
       "       -0.07197039, -0.12848333,  0.22532476, -0.19169675,  0.29881644,\n",
       "        0.00897528, -0.12392566,  0.13083367, -0.01802753, -0.31276983,\n",
       "        0.20541279, -0.2002562 ,  0.19910054, -0.10586128, -0.14971647,\n",
       "       -0.12818956,  0.0317865 ,  0.02450224,  0.04940631,  0.26318878,\n",
       "       -0.17156339,  0.07450796, -0.2970022 ,  0.0302104 ,  0.03484252,\n",
       "       -0.3919885 ,  0.10235768, -0.08340716, -0.07391408,  0.05020208,\n",
       "       -0.27667862, -0.15101378, -0.11863364,  0.00094551,  0.05136123],\n",
       "      dtype=float32)>"
      ]
     },
     "execution_count": 28,
     "metadata": {},
     "output_type": "execute_result"
    }
   ],
   "source": [
    "embeddings[1]"
   ]
  },
  {
   "cell_type": "code",
   "execution_count": 29,
   "metadata": {},
   "outputs": [],
   "source": [
    "v1 = embeddings[0].numpy().reshape(1,-1)\n",
    "v2 = embeddings[1].numpy().reshape(1,-1)"
   ]
  },
  {
   "cell_type": "code",
   "execution_count": 30,
   "metadata": {},
   "outputs": [
    {
     "data": {
      "text/plain": [
       "array([[0.98703706]], dtype=float32)"
      ]
     },
     "execution_count": 30,
     "metadata": {},
     "output_type": "execute_result"
    }
   ],
   "source": [
    "import sklearn\n",
    "sklearn.metrics.pairwise.cosine_similarity(v1, v2)"
   ]
  },
  {
   "cell_type": "code",
   "execution_count": null,
   "metadata": {},
   "outputs": [],
   "source": []
  },
  {
   "cell_type": "code",
   "execution_count": null,
   "metadata": {},
   "outputs": [],
   "source": []
  },
  {
   "cell_type": "code",
   "execution_count": 33,
   "metadata": {},
   "outputs": [],
   "source": [
    "import tensorflow as tf"
   ]
  },
  {
   "cell_type": "code",
   "execution_count": 34,
   "metadata": {},
   "outputs": [
    {
     "name": "stdout",
     "output_type": "stream",
     "text": [
      "Model: \"sequential\"\n",
      "_________________________________________________________________\n",
      "Layer (type)                 Output Shape              Param #   \n",
      "=================================================================\n",
      "keras_layer (KerasLayer)     (None, 50)                48558850  \n",
      "_________________________________________________________________\n",
      "dense (Dense)                (None, 16)                816       \n",
      "_________________________________________________________________\n",
      "dense_1 (Dense)              (None, 1)                 17        \n",
      "=================================================================\n",
      "Total params: 48,559,683\n",
      "Trainable params: 833\n",
      "Non-trainable params: 48,558,850\n",
      "_________________________________________________________________\n"
     ]
    }
   ],
   "source": [
    "hub_layer = hub.KerasLayer(\"./nnlm-zh-dim50-with-normalization_2\", output_shape=[50],\n",
    "                           input_shape=[], dtype=tf.string)\n",
    "\n",
    "model = tf.keras.Sequential()\n",
    "model.add(hub_layer)\n",
    "model.add(tf.keras.layers.Dense(16, activation='relu'))\n",
    "model.add(tf.keras.layers.Dense(1, activation='sigmoid'))\n",
    "\n",
    "model.summary()"
   ]
  },
  {
   "cell_type": "code",
   "execution_count": null,
   "metadata": {},
   "outputs": [],
   "source": []
  }
 ],
 "metadata": {
  "kernelspec": {
   "display_name": "Python 3",
   "language": "python",
   "name": "python3"
  },
  "language_info": {
   "codemirror_mode": {
    "name": "ipython",
    "version": 3
   },
   "file_extension": ".py",
   "mimetype": "text/x-python",
   "name": "python",
   "nbconvert_exporter": "python",
   "pygments_lexer": "ipython3",
   "version": "3.6.10"
  }
 },
 "nbformat": 4,
 "nbformat_minor": 4
}
