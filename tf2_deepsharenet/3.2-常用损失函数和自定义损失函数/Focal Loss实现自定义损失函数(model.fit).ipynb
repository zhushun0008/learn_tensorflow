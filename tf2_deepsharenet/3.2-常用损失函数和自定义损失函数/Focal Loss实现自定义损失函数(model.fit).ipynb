{
 "cells": [
  {
   "cell_type": "code",
   "execution_count": 1,
   "metadata": {},
   "outputs": [],
   "source": [
    "#结合focal loss 函数讲解"
   ]
  },
  {
   "cell_type": "code",
   "execution_count": 1,
   "metadata": {},
   "outputs": [
    {
     "name": "stdout",
     "output_type": "stream",
     "text": [
      "2.0.0\n",
      "1.18.3\n"
     ]
    }
   ],
   "source": [
    "from __future__ import absolute_import, division, print_function, unicode_literals\n",
    "\n",
    "import tensorflow as tf\n",
    "from tensorflow.keras.layers import Dense, Flatten, Conv2D\n",
    "from tensorflow.keras import Model\n",
    "import numpy as np\n",
    "\n",
    "print(tf.__version__)\n",
    "print(np.__version__)\n",
    "\n",
    "mnist = np.load(\"mnist.npz\")\n",
    "x_train, y_train, x_test, y_test = mnist['x_train'],mnist['y_train'],mnist['x_test'],mnist['y_test']\n",
    "\n",
    "x_train, x_test = x_train / 255.0, x_test / 255.0\n",
    "y_train = np.int32(y_train)\n",
    "y_test = np.int32(y_test)\n",
    "# Add a channels dimension\n",
    "x_train = x_train[..., tf.newaxis]\n",
    "x_test = x_test[..., tf.newaxis]\n",
    "y_train = tf.one_hot(y_train,depth=10)\n",
    "y_test = tf.one_hot(y_test,depth=10)\n",
    "train_ds = tf.data.Dataset.from_tensor_slices((x_train, y_train)).shuffle(10000).batch(32)\n",
    "test_ds = tf.data.Dataset.from_tensor_slices((x_test, y_test)).shuffle(100).batch(32)\n"
   ]
  },
  {
   "cell_type": "code",
   "execution_count": 2,
   "metadata": {},
   "outputs": [
    {
     "data": {
      "text/plain": [
       "(10000, 28, 28, 1)"
      ]
     },
     "execution_count": 2,
     "metadata": {},
     "output_type": "execute_result"
    }
   ],
   "source": [
    "x_test.shape"
   ]
  },
  {
   "cell_type": "code",
   "execution_count": 2,
   "metadata": {},
   "outputs": [],
   "source": [
    "def MyModel():\n",
    "    inputs = tf.keras.Input(shape=(28,28,1), name='digits')\n",
    "    x = tf.keras.layers.Conv2D(32, 3, activation='relu')(inputs)\n",
    "    x = tf.keras.layers.Flatten()(x)\n",
    "    x = tf.keras.layers.Dense(128, activation='relu')(x)\n",
    "    outputs = tf.keras.layers.Dense(10,activation='softmax', name='predictions')(x)\n",
    "    model = tf.keras.Model(inputs=inputs, outputs=outputs)\n",
    "    return model\n"
   ]
  },
  {
   "cell_type": "code",
   "execution_count": 4,
   "metadata": {},
   "outputs": [],
   "source": [
    "# #多分类的focal loss 损失函数\n",
    "# class FocalLoss(tf.keras.losses.Loss):\n",
    "\n",
    "#     def __init__(self,gamma=2.0,alpha=0.25):\n",
    "#         self.gamma = gamma\n",
    "#         self.alpha = alpha\n",
    "#         super(FocalLoss, self).__init__()\n",
    "\n",
    "#     def call(self,y_true,y_pred):\n",
    "#         y_pred = tf.nn.softmax(y_pred,axis=-1)\n",
    "#         epsilon = tf.keras.backend.epsilon()\n",
    "#         y_pred = tf.clip_by_value(y_pred, epsilon, 1.0)\n",
    "        \n",
    "       \n",
    "#         y_true = tf.cast(y_true,tf.float32)\n",
    "        \n",
    "#         loss = -  y_true * tf.math.pow(1 - y_pred, self.gamma) * tf.math.log(y_pred)\n",
    "        \n",
    "#         loss = tf.math.reduce_sum(loss,axis=1)\n",
    "#         return loss\n",
    "    "
   ]
  },
  {
   "cell_type": "code",
   "execution_count": 3,
   "metadata": {},
   "outputs": [],
   "source": [
    "def FocalLoss(gamma=2.0,alpha=0.25):\n",
    "    def focal_loss_fixed(y_true, y_pred):\n",
    "        y_pred = tf.nn.softmax(y_pred,axis=-1)\n",
    "        epsilon = tf.keras.backend.epsilon()\n",
    "        y_pred = tf.clip_by_value(y_pred, epsilon, 1.0)\n",
    "\n",
    "        y_true = tf.cast(y_true,tf.float32)\n",
    "\n",
    "        loss = -  y_true * tf.math.pow(1 - y_pred, gamma) * tf.math.log(y_pred)\n",
    "\n",
    "        loss = tf.math.reduce_sum(loss,axis=1)\n",
    "        return  loss\n",
    "    return focal_loss_fixed"
   ]
  },
  {
   "cell_type": "code",
   "execution_count": null,
   "metadata": {},
   "outputs": [],
   "source": []
  },
  {
   "cell_type": "code",
   "execution_count": 4,
   "metadata": {},
   "outputs": [],
   "source": [
    "\n",
    "model = MyModel()\n",
    "model.compile(optimizer = tf.keras.optimizers.Adam(0.001), #优化器\n",
    "              loss =  FocalLoss(gamma=2.0,alpha=0.25), #损失函数\n",
    "              metrics = [tf.keras.metrics.CategoricalAccuracy()]\n",
    "             ) #评估函数\n"
   ]
  },
  {
   "cell_type": "code",
   "execution_count": 5,
   "metadata": {},
   "outputs": [
    {
     "name": "stdout",
     "output_type": "stream",
     "text": [
      "Epoch 1/5\n",
      "1875/1875 [==============================] - 17s 9ms/step - loss: 0.9750 - categorical_accuracy: 0.9082 - val_loss: 0.0000e+00 - val_categorical_accuracy: 0.0000e+00\n",
      "Epoch 2/5\n",
      "1875/1875 [==============================] - 11s 6ms/step - loss: 0.8915 - categorical_accuracy: 0.9762 - val_loss: 0.8921 - val_categorical_accuracy: 0.9752\n",
      "Epoch 3/5\n",
      "1875/1875 [==============================] - 11s 6ms/step - loss: 0.8836 - categorical_accuracy: 0.9828 - val_loss: 0.8882 - val_categorical_accuracy: 0.9787\n",
      "Epoch 4/5\n",
      "1875/1875 [==============================] - 11s 6ms/step - loss: 0.8789 - categorical_accuracy: 0.9862 - val_loss: 0.8839 - val_categorical_accuracy: 0.9818\n",
      "Epoch 5/5\n",
      "1875/1875 [==============================] - 11s 6ms/step - loss: 0.8762 - categorical_accuracy: 0.9883 - val_loss: 0.8849 - val_categorical_accuracy: 0.9806\n"
     ]
    },
    {
     "data": {
      "text/plain": [
       "<tensorflow.python.keras.callbacks.History at 0x1238019a470>"
      ]
     },
     "execution_count": 5,
     "metadata": {},
     "output_type": "execute_result"
    }
   ],
   "source": [
    "model.fit(train_ds, epochs=5,validation_data=test_ds)"
   ]
  },
  {
   "cell_type": "code",
   "execution_count": null,
   "metadata": {},
   "outputs": [],
   "source": []
  },
  {
   "cell_type": "code",
   "execution_count": null,
   "metadata": {},
   "outputs": [],
   "source": []
  },
  {
   "cell_type": "code",
   "execution_count": null,
   "metadata": {},
   "outputs": [],
   "source": []
  },
  {
   "cell_type": "code",
   "execution_count": null,
   "metadata": {},
   "outputs": [],
   "source": []
  }
 ],
 "metadata": {
  "kernelspec": {
   "display_name": "Python 3",
   "language": "python",
   "name": "python3"
  },
  "language_info": {
   "codemirror_mode": {
    "name": "ipython",
    "version": 3
   },
   "file_extension": ".py",
   "mimetype": "text/x-python",
   "name": "python",
   "nbconvert_exporter": "python",
   "pygments_lexer": "ipython3",
   "version": "3.6.10"
  }
 },
 "nbformat": 4,
 "nbformat_minor": 4
}
