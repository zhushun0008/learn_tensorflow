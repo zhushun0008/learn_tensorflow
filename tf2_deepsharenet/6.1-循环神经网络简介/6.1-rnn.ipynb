{
 "cells": [
  {
   "cell_type": "code",
   "execution_count": null,
   "metadata": {},
   "outputs": [],
   "source": [
    "import numpy as np\n",
    "class RNN:\n",
    "    def __init__(self,word_dim,hidden_dim=100,output_dim=50):\n",
    "        self.word_dim=word_dim\n",
    "        self.hidden_dim=hidden_dim\n",
    "        self.output_dim=output_dim\n",
    "        self.U=np.random.uniform(-np.sqrt(1./word_dim),np.sqrt(1./word_dim),(word_dim,hidden_dim))  #d*h\n",
    "        self.W=np.random.uniform(-np.sqrt(1./hidden_dim),np.sqrt(1./hidden_dim),(hidden_dim,hidden_dim)) #h*h\n",
    "        self.V=np.random.uniform(-np.sqrt(1./hidden_dim),np.sqrt(1./hidden_dim),(hidden_dim,output_dim)) #h*q\n",
    "\n",
    "    def forward_propagation(self,x):\n",
    "        # train steps\n",
    "        T=x.shape[1]\n",
    "        N=x.shape[0]\n",
    "        # hidden states 初始化为0\n",
    "        s=np.zeros((N,T,self.hidden_dim))\n",
    "        # output zeros\n",
    "        o=np.zeros((N,T,self.output_dim))\n",
    "        # for each time in step:\n",
    "        for t in range(T):\n",
    "            s[:,t,:]=np.tan(x[:,t,:].dot(self.U)+s[:,t-1,:].dot(self.W)) #n*h\n",
    "            o[:,t,:]=self.softmax(s[:,t,:].dot(self.V)) #\n",
    "        return [o,s]\n",
    "\n",
    "    def softmax(self,x):\n",
    "        exp_x = np.exp(x)\n",
    "        softmax_x = exp_x / np.sum(exp_x)\n",
    "        return softmax_x \n",
    "\n",
    "x = np.random.uniform(-0.5,0.5,(10,100,20))\n",
    "rnn =RNN(20)\n",
    "o_,s_ = rnn.forward_propagation(x)\n",
    "o_.shape,s_.shape\n",
    "\"\"\"\n",
    "((10, 100, 50), (10, 100, 100))\n",
    "\"\"\""
   ]
  }
 ],
 "metadata": {
  "kernelspec": {
   "display_name": "Python 3",
   "language": "python",
   "name": "python3"
  },
  "language_info": {
   "codemirror_mode": {
    "name": "ipython",
    "version": 3
   },
   "file_extension": ".py",
   "mimetype": "text/x-python",
   "name": "python",
   "nbconvert_exporter": "python",
   "pygments_lexer": "ipython3",
   "version": "3.6.10"
  }
 },
 "nbformat": 4,
 "nbformat_minor": 4
}
