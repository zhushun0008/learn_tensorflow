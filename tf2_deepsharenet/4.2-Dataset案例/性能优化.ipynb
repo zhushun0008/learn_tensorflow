{
 "cells": [
  {
   "cell_type": "code",
   "execution_count": 1,
   "metadata": {},
   "outputs": [
    {
     "name": "stdout",
     "output_type": "stream",
     "text": [
      "2.0.0\n"
     ]
    }
   ],
   "source": [
    "import tensorflow as tf\n",
    "import time\n",
    "import os\n",
    "print(tf.__version__)\n",
    "data_dir = './datasets'\n",
    "train_cats_dir = data_dir + '/train/cats/'\n",
    "train_dogs_dir = data_dir + '/train/dogs/'\n",
    "test_cats_dir = data_dir + '/valid/cats/'\n",
    "test_dogs_dir = data_dir + '/valid/dogs/'\n",
    "\n",
    "\n",
    "# 构建训练数据集\n",
    "train_cat_filenames = tf.constant([train_cats_dir + filename for filename in os.listdir(train_cats_dir)][:1000])\n",
    "train_dog_filenames = tf.constant([train_dogs_dir + filename for filename in os.listdir(train_dogs_dir)][:1000])\n",
    "train_filenames = tf.concat([train_cat_filenames, train_dog_filenames], axis=-1)\n",
    "train_labels = tf.concat([\n",
    "    tf.zeros(train_cat_filenames.shape, dtype=tf.int32), \n",
    "    tf.ones(train_dog_filenames.shape, dtype=tf.int32)], \n",
    "    axis=-1)"
   ]
  },
  {
   "cell_type": "code",
   "execution_count": 2,
   "metadata": {},
   "outputs": [],
   "source": [
    "#构建训练集\n",
    "\n",
    "def _decode_and_resize(filename, label):\n",
    "    image_string = tf.io.read_file(filename)            # 读取原始文件\n",
    "    image_decoded = tf.image.decode_jpeg(image_string)  # 解码JPEG图片\n",
    "    image_resized = tf.image.resize(image_decoded, [256, 256]) / 255.0\n",
    "    return image_resized, label\n",
    "\n",
    "\n",
    "batch_size = 32\n",
    "train_dataset = tf.data.Dataset.from_tensor_slices((train_filenames, train_labels))\n",
    "\n",
    "def benchmark(dataset, num_epochs=1):\n",
    "    start_time = time.perf_counter()\n",
    "    for epoch_num in range(num_epochs):\n",
    "        for sample in dataset:\n",
    "            # Performing a training step\n",
    "            time.sleep(0.01)\n",
    "    tf.print(\"Execution time:\", time.perf_counter() - start_time)"
   ]
  },
  {
   "cell_type": "code",
   "execution_count": 3,
   "metadata": {},
   "outputs": [
    {
     "data": {
      "text/plain": [
       "1"
      ]
     },
     "execution_count": 3,
     "metadata": {},
     "output_type": "execute_result"
    }
   ],
   "source": [
    "1"
   ]
  },
  {
   "cell_type": "markdown",
   "metadata": {},
   "source": [
    "# prefetch方法："
   ]
  },
  {
   "cell_type": "code",
   "execution_count": 4,
   "metadata": {},
   "outputs": [
    {
     "name": "stdout",
     "output_type": "stream",
     "text": [
      "Execution time: 29.59943906086638\n"
     ]
    }
   ],
   "source": [
    "benchmark(train_dataset.map(\n",
    "    map_func=_decode_and_resize, \n",
    "    num_parallel_calls=tf.data.experimental.AUTOTUNE),\n",
    "    num_epochs=1)"
   ]
  },
  {
   "cell_type": "code",
   "execution_count": 5,
   "metadata": {},
   "outputs": [
    {
     "name": "stdout",
     "output_type": "stream",
     "text": [
      "Execution time: 29.054936807737768\n"
     ]
    }
   ],
   "source": [
    "benchmark(\n",
    "    train_dataset.map(\n",
    "    map_func=_decode_and_resize, \n",
    "    num_parallel_calls=tf.data.experimental.AUTOTUNE)\n",
    "    .prefetch(tf.data.experimental.AUTOTUNE),\n",
    "    num_epochs=1\n",
    ")"
   ]
  },
  {
   "cell_type": "markdown",
   "metadata": {},
   "source": [
    "# interleave 方法"
   ]
  },
  {
   "cell_type": "code",
   "execution_count": 6,
   "metadata": {},
   "outputs": [],
   "source": [
    "filenames = [\"./interleave_data/train.csv\", \"./interleave_data/eval.csv\",\n",
    "             \"./interleave_data/train.csv\", \"./interleave_data/eval.csv\",]\n",
    "dataset = tf.data.Dataset.from_tensor_slices(filenames)\n",
    "\n",
    "def data_func(line):\n",
    "    line = tf.strings.split(line, sep = \",\")\n",
    "    return line\n",
    "\n",
    "dataset_1 = dataset.interleave(lambda x:\n",
    "    tf.data.TextLineDataset(x).skip(1).map(data_func),\n",
    "    cycle_length=4, block_length=16)"
   ]
  },
  {
   "cell_type": "code",
   "execution_count": 7,
   "metadata": {},
   "outputs": [
    {
     "name": "stdout",
     "output_type": "stream",
     "text": [
      "tf.Tensor(\n",
      "[b'0' b'male' b'22.0' b'1' b'0' b'7.25' b'Third' b'unknown' b'Southampton'\n",
      " b'n'], shape=(10,), dtype=string)\n",
      "tf.Tensor(\n",
      "[b'1' b'female' b'38.0' b'1' b'0' b'71.2833' b'First' b'C' b'Cherbourg'\n",
      " b'n'], shape=(10,), dtype=string)\n"
     ]
    }
   ],
   "source": [
    "for line in dataset_1.take(2):\n",
    "    print(line)"
   ]
  },
  {
   "cell_type": "code",
   "execution_count": 8,
   "metadata": {},
   "outputs": [
    {
     "name": "stdout",
     "output_type": "stream",
     "text": [
      "Execution time: 25.970601931961596\n"
     ]
    }
   ],
   "source": [
    "benchmark(dataset_1,\n",
    "    num_epochs=1)"
   ]
  },
  {
   "cell_type": "code",
   "execution_count": 9,
   "metadata": {},
   "outputs": [],
   "source": [
    "dataset_2 = dataset.interleave(lambda x:\n",
    "    tf.data.TextLineDataset(x).skip(1).map(data_func),\n",
    "    num_parallel_calls=tf.data.experimental.AUTOTUNE,\n",
    "    cycle_length=4, block_length=16)"
   ]
  },
  {
   "cell_type": "code",
   "execution_count": 10,
   "metadata": {},
   "outputs": [
    {
     "name": "stdout",
     "output_type": "stream",
     "text": [
      "Execution time: 25.826337882865033\n"
     ]
    }
   ],
   "source": [
    "benchmark(dataset_2,\n",
    "    num_epochs=1)"
   ]
  },
  {
   "cell_type": "markdown",
   "metadata": {},
   "source": [
    "# map方法"
   ]
  },
  {
   "cell_type": "code",
   "execution_count": 11,
   "metadata": {},
   "outputs": [
    {
     "name": "stdout",
     "output_type": "stream",
     "text": [
      "Execution time: 29.13341431492455\n"
     ]
    }
   ],
   "source": [
    "benchmark(\n",
    "    train_dataset.map(\n",
    "    map_func=_decode_and_resize, \n",
    "    num_parallel_calls=tf.data.experimental.AUTOTUNE)\n",
    ")"
   ]
  },
  {
   "cell_type": "code",
   "execution_count": 12,
   "metadata": {},
   "outputs": [
    {
     "name": "stdout",
     "output_type": "stream",
     "text": [
      "Execution time: 28.908936553196412\n"
     ]
    }
   ],
   "source": [
    "benchmark(\n",
    "    train_dataset.map(\n",
    "    map_func=_decode_and_resize\n",
    "    )\n",
    ")"
   ]
  },
  {
   "cell_type": "code",
   "execution_count": null,
   "metadata": {},
   "outputs": [],
   "source": []
  },
  {
   "cell_type": "code",
   "execution_count": null,
   "metadata": {},
   "outputs": [],
   "source": []
  },
  {
   "cell_type": "markdown",
   "metadata": {},
   "source": [
    "# cache方法 "
   ]
  },
  {
   "cell_type": "code",
   "execution_count": 3,
   "metadata": {},
   "outputs": [
    {
     "name": "stdout",
     "output_type": "stream",
     "text": [
      "Execution time: 57.88074226885329\n"
     ]
    }
   ],
   "source": [
    "benchmark(\n",
    "    train_dataset.map(\n",
    "    map_func=_decode_and_resize,\n",
    "    num_parallel_calls=tf.data.experimental.AUTOTUNE\n",
    "    ),\n",
    "    num_epochs=2\n",
    ")"
   ]
  },
  {
   "cell_type": "code",
   "execution_count": 4,
   "metadata": {},
   "outputs": [
    {
     "name": "stdout",
     "output_type": "stream",
     "text": [
      "Execution time: 57.8187796820567\n"
     ]
    }
   ],
   "source": [
    "benchmark(\n",
    "    train_dataset.map(\n",
    "    map_func=_decode_and_resize,\n",
    "    num_parallel_calls=tf.data.experimental.AUTOTUNE\n",
    "    ).cache(),\n",
    "    num_epochs=2\n",
    ")"
   ]
  },
  {
   "cell_type": "code",
   "execution_count": null,
   "metadata": {},
   "outputs": [],
   "source": []
  }
 ],
 "metadata": {
  "kernelspec": {
   "display_name": "Python 3",
   "language": "python",
   "name": "python3"
  },
  "language_info": {
   "codemirror_mode": {
    "name": "ipython",
    "version": 3
   },
   "file_extension": ".py",
   "mimetype": "text/x-python",
   "name": "python",
   "nbconvert_exporter": "python",
   "pygments_lexer": "ipython3",
   "version": "3.6.10"
  }
 },
 "nbformat": 4,
 "nbformat_minor": 4
}
