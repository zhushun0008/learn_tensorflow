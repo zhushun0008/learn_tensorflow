{
 "cells": [
  {
   "cell_type": "code",
   "execution_count": null,
   "metadata": {},
   "outputs": [],
   "source": [
    "\"\"\"\n",
    "该项目运行环境：Windows 10\n",
    "python =3.6\n",
    "相关算法包环境\n",
    "tensorflow = 2.0.0\n",
    "numpy =1.18.3\n",
    "\"\"\"\n",
    "\n",
    "\n",
    "from __future__ import absolute_import, division, print_function, unicode_literals\n",
    "\n",
    "import tensorflow as tf\n",
    "\n",
    "from tensorflow.keras.layers import Dense, Flatten, Conv2D\n",
    "from tensorflow.keras import Model\n",
    "import numpy as np\n",
    "import datetime\n",
    "print(tf.__version__)\n",
    "print(np.__version__)"
   ]
  },
  {
   "cell_type": "code",
   "execution_count": null,
   "metadata": {},
   "outputs": [],
   "source": [
    "mnist = np.load(\"mnist.npz\")\n",
    "x_train, y_train, x_test, y_test = mnist['x_train'],mnist['y_train'],mnist['x_test'],mnist['y_test']\n",
    "\n",
    "x_train, x_test = x_train / 255.0, x_test / 255.0\n",
    "\n",
    "# Add a channels dimension\n",
    "x_train = x_train[..., tf.newaxis]\n",
    "x_test = x_test[..., tf.newaxis]\n",
    "\n",
    "\n"
   ]
  },
  {
   "cell_type": "code",
   "execution_count": 3,
   "metadata": {},
   "outputs": [],
   "source": [
    "\n",
    "class MyModel(Model):\n",
    "    def __init__(self):\n",
    "        super(MyModel, self).__init__()\n",
    "        self.conv1 = Conv2D(32, 3, activation='relu')\n",
    "        self.flatten = Flatten()\n",
    "        self.d1 = Dense(128, activation='relu')\n",
    "        self.d2 = Dense(10, activation='softmax')\n",
    "    @tf.function\n",
    "    def call(self, x):\n",
    "        x = self.conv1(x)\n",
    "        x = self.flatten(x)\n",
    "        x = self.d1(x)\n",
    "        return self.d2(x)\n",
    "\n"
   ]
  },
  {
   "cell_type": "code",
   "execution_count": null,
   "metadata": {},
   "outputs": [
    {
     "name": "stdout",
     "output_type": "stream",
     "text": [
      "Train on 60000 samples, validate on 10000 samples\n",
      "Epoch 1/20\n",
      "60000/60000 [==============================] - 11s 189us/sample - loss: 0.1344 - accuracy: 0.9589 - val_loss: 0.0592 - val_accuracy: 0.9808\n",
      "Epoch 2/20\n",
      "60000/60000 [==============================] - 9s 158us/sample - loss: 0.0420 - accuracy: 0.9869 - val_loss: 0.0556 - val_accuracy: 0.9822\n",
      "Epoch 3/20\n",
      "60000/60000 [==============================] - 10s 175us/sample - loss: 0.0220 - accuracy: 0.9929 - val_loss: 0.0497 - val_accuracy: 0.9844\n",
      "Epoch 4/20\n",
      "60000/60000 [==============================] - 10s 159us/sample - loss: 0.0130 - accuracy: 0.9958 - val_loss: 0.0539 - val_accuracy: 0.9819\n",
      "Epoch 5/20\n",
      "60000/60000 [==============================] - 10s 169us/sample - loss: 0.0092 - accuracy: 0.9968 - val_loss: 0.0626 - val_accuracy: 0.9832\n",
      "Epoch 6/20\n",
      "60000/60000 [==============================] - 9s 147us/sample - loss: 0.0069 - accuracy: 0.9975 - val_loss: 0.0626 - val_accuracy: 0.9840\n",
      "Epoch 7/20\n",
      "60000/60000 [==============================] - 9s 154us/sample - loss: 0.0058 - accuracy: 0.9980 - val_loss: 0.0804 - val_accuracy: 0.9828\n",
      "Epoch 8/20\n",
      "60000/60000 [==============================] - 9s 145us/sample - loss: 0.0048 - accuracy: 0.9982 - val_loss: 0.0747 - val_accuracy: 0.9841\n",
      "Epoch 9/20\n",
      "60000/60000 [==============================] - 9s 142us/sample - loss: 0.0032 - accuracy: 0.9990 - val_loss: 0.0726 - val_accuracy: 0.9844\n",
      "Epoch 10/20\n",
      "21568/60000 [=========>....................] - ETA: 4s - loss: 0.0027 - accuracy: 0.9992"
     ]
    }
   ],
   "source": [
    "model = MyModel()\n",
    "model.compile(optimizer='adam',\n",
    "              loss='sparse_categorical_crossentropy',\n",
    "              metrics=['accuracy'])\n",
    "\n",
    "\n",
    "tensorboard_callback = tf.keras.callbacks.TensorBoard(log_dir=\"keras_logv2\", \n",
    "                                                      histogram_freq=1,\n",
    "                                                      profile_batch = 100000000)\n",
    "\n",
    "model.fit(x=x_train, \n",
    "          y=y_train, \n",
    "          epochs=20, \n",
    "          validation_data=(x_test, y_test), \n",
    "          callbacks=[tensorboard_callback])"
   ]
  },
  {
   "cell_type": "code",
   "execution_count": 7,
   "metadata": {},
   "outputs": [],
   "source": [
    "%load_ext tensorboard"
   ]
  },
  {
   "cell_type": "code",
   "execution_count": 9,
   "metadata": {},
   "outputs": [
    {
     "data": {
      "text/plain": [
       "Reusing TensorBoard on port 6006 (pid 4036), started 0:01:18 ago. (Use '!kill 4036' to kill it.)"
      ]
     },
     "metadata": {},
     "output_type": "display_data"
    },
    {
     "data": {
      "text/html": [
       "\n",
       "      <iframe id=\"tensorboard-frame-229fc5731d436403\" width=\"100%\" height=\"800\" frameborder=\"0\">\n",
       "      </iframe>\n",
       "      <script>\n",
       "        (function() {\n",
       "          const frame = document.getElementById(\"tensorboard-frame-229fc5731d436403\");\n",
       "          const url = new URL(\"/\", window.location);\n",
       "          url.port = 6006;\n",
       "          frame.src = url;\n",
       "        })();\n",
       "      </script>\n",
       "  "
      ],
      "text/plain": [
       "<IPython.core.display.HTML object>"
      ]
     },
     "metadata": {},
     "output_type": "display_data"
    }
   ],
   "source": [
    "%tensorboard --logdir keras_log"
   ]
  },
  {
   "cell_type": "code",
   "execution_count": null,
   "metadata": {},
   "outputs": [],
   "source": []
  }
 ],
 "metadata": {
  "kernelspec": {
   "display_name": "Python 3",
   "language": "python",
   "name": "python3"
  },
  "language_info": {
   "codemirror_mode": {
    "name": "ipython",
    "version": 3
   },
   "file_extension": ".py",
   "mimetype": "text/x-python",
   "name": "python",
   "nbconvert_exporter": "python",
   "pygments_lexer": "ipython3",
   "version": "3.6.10"
  }
 },
 "nbformat": 4,
 "nbformat_minor": 4
}
